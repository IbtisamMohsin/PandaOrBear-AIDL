{
  "nbformat": 4,
  "nbformat_minor": 0,
  "metadata": {
    "colab": {
      "provenance": []
    },
    "kernelspec": {
      "name": "python3",
      "display_name": "Python 3"
    },
    "language_info": {
      "name": "python"
    }
  },
  "cells": [
    {
      "cell_type": "code",
      "execution_count": null,
      "metadata": {
        "colab": {
          "base_uri": "https://localhost:8080/"
        },
        "id": "6NUtXbnmfrfv",
        "outputId": "8a7b5831-1ed0-4ae5-cb95-cc3e23c737fc"
      },
      "outputs": [
        {
          "output_type": "stream",
          "name": "stdout",
          "text": [
            "Requirement already satisfied: kaggle in /usr/local/lib/python3.10/dist-packages (1.6.14)\n",
            "Requirement already satisfied: six>=1.10 in /usr/local/lib/python3.10/dist-packages (from kaggle) (1.16.0)\n",
            "Requirement already satisfied: certifi>=2023.7.22 in /usr/local/lib/python3.10/dist-packages (from kaggle) (2024.2.2)\n",
            "Requirement already satisfied: python-dateutil in /usr/local/lib/python3.10/dist-packages (from kaggle) (2.8.2)\n",
            "Requirement already satisfied: requests in /usr/local/lib/python3.10/dist-packages (from kaggle) (2.31.0)\n",
            "Requirement already satisfied: tqdm in /usr/local/lib/python3.10/dist-packages (from kaggle) (4.66.4)\n",
            "Requirement already satisfied: python-slugify in /usr/local/lib/python3.10/dist-packages (from kaggle) (8.0.4)\n",
            "Requirement already satisfied: urllib3 in /usr/local/lib/python3.10/dist-packages (from kaggle) (2.0.7)\n",
            "Requirement already satisfied: bleach in /usr/local/lib/python3.10/dist-packages (from kaggle) (6.1.0)\n",
            "Requirement already satisfied: webencodings in /usr/local/lib/python3.10/dist-packages (from bleach->kaggle) (0.5.1)\n",
            "Requirement already satisfied: text-unidecode>=1.3 in /usr/local/lib/python3.10/dist-packages (from python-slugify->kaggle) (1.3)\n",
            "Requirement already satisfied: charset-normalizer<4,>=2 in /usr/local/lib/python3.10/dist-packages (from requests->kaggle) (3.3.2)\n",
            "Requirement already satisfied: idna<4,>=2.5 in /usr/local/lib/python3.10/dist-packages (from requests->kaggle) (3.7)\n"
          ]
        }
      ],
      "source": [
        "!pip install kaggle"
      ]
    },
    {
      "cell_type": "code",
      "source": [
        "\n",
        "from google.colab import drive\n",
        "drive.mount('/content/drive')"
      ],
      "metadata": {
        "colab": {
          "base_uri": "https://localhost:8080/"
        },
        "id": "-rm4xmULf0VA",
        "outputId": "99136eff-092e-4ca7-ab47-46dbb5ab0870"
      },
      "execution_count": null,
      "outputs": [
        {
          "output_type": "stream",
          "name": "stdout",
          "text": [
            "Mounted at /content/drive\n"
          ]
        }
      ]
    },
    {
      "cell_type": "code",
      "source": [
        "! mkdir ~/.kaggle"
      ],
      "metadata": {
        "id": "dNigP2b8g9Pw"
      },
      "execution_count": null,
      "outputs": []
    },
    {
      "cell_type": "code",
      "source": [
        "!cp /content/drive/MyDrive/kaggle.json ~/.kaggle/kaggle.json"
      ],
      "metadata": {
        "id": "SO09EtpbhILi"
      },
      "execution_count": null,
      "outputs": []
    },
    {
      "cell_type": "code",
      "source": [
        "train_dir = '/content/drive/MyDrive/Train'\n",
        "test_dir = '/content/drive/MyDrive/Test'"
      ],
      "metadata": {
        "id": "NRa6iFaEl88p"
      },
      "execution_count": null,
      "outputs": []
    },
    {
      "cell_type": "code",
      "source": [
        "import os\n",
        "print(len(os.listdir('/content/drive/MyDrive/Train/Bears')))\n",
        "print(len(os.listdir('/content/drive/MyDrive/Train/Pandas')))\n",
        "print(len(os.listdir('/content/drive/MyDrive/Test/Bears')))\n",
        "print(len(os.listdir('/content/drive/MyDrive/Test/Pandas')))"
      ],
      "metadata": {
        "colab": {
          "base_uri": "https://localhost:8080/"
        },
        "id": "cYDG0bPImFT6",
        "outputId": "7a355d33-84c1-4724-88dd-e07910a91d43"
      },
      "execution_count": null,
      "outputs": [
        {
          "output_type": "stream",
          "name": "stdout",
          "text": [
            "250\n",
            "250\n",
            "50\n",
            "50\n"
          ]
        }
      ]
    },
    {
      "cell_type": "code",
      "source": [
        "import tensorflow as tf\n",
        "from tensorflow.keras.preprocessing.image import ImageDataGenerator\n",
        "\n",
        "# Create ImageDataGenerator for training set\n",
        "train_datagen = ImageDataGenerator(\n",
        "    rescale=1./255,\n",
        "    validation_split=0.2  # Split 20% of the images for validation\n",
        ")\n",
        "\n",
        "# Load and prepare training data\n",
        "train_data = train_datagen.flow_from_directory(\n",
        "    train_dir,\n",
        "    target_size=(256,256),\n",
        "    batch_size=32,\n",
        "    class_mode='binary',  # 'binary' for binary classification (cats vs. dogs)\n",
        "    subset='training'  # Specify 'training' for the training set\n",
        ")\n",
        "\n",
        "# Create ImageDataGenerator for validation set\n",
        "validation_datagen = ImageDataGenerator(\n",
        "    rescale=1./255,\n",
        "    validation_split=0.2  # Note: Using the same validation split as in the training set\n",
        ")\n",
        "\n",
        "# Load and prepare validation data\n",
        "validation_data = validation_datagen.flow_from_directory(\n",
        "    train_dir,\n",
        "    target_size=(256,256),\n",
        "    batch_size=32,\n",
        "    class_mode='binary',\n",
        "    subset='validation'  # Specify 'validation' for the validation set\n",
        ")"
      ],
      "metadata": {
        "colab": {
          "base_uri": "https://localhost:8080/"
        },
        "id": "o_sHSc5_mqph",
        "outputId": "1f379644-ef8f-4dc2-c109-be090f90dfad"
      },
      "execution_count": null,
      "outputs": [
        {
          "output_type": "stream",
          "name": "stdout",
          "text": [
            "Found 400 images belonging to 2 classes.\n",
            "Found 100 images belonging to 2 classes.\n"
          ]
        }
      ]
    },
    {
      "cell_type": "code",
      "source": [
        "from tensorflow import keras\n",
        "from keras import Sequential\n",
        "from keras.layers import Dense,Conv2D,MaxPooling2D,Flatten\n",
        "\n",
        "resnet_model = Sequential()    #ResNet50 is a pre-trained model\n",
        "pretrained_model = tf.keras.applications.ResNet50(include_top = False, #because i have my own image of a diff dimension\n",
        "                                                input_shape = (256,256,3),\n",
        "                                                pooling = 'max', classes = 2,\n",
        "                                                weights = 'imagenet')\n",
        "for layer in pretrained_model.layers:\n",
        "    layer.trainable = False  #all layers in the Resnet50 is not trainable; keep those weights; I am going to add my own i/p and other layers\n",
        "\n",
        "resnet_model.add(pretrained_model)\n",
        "resnet_model.add(Flatten())\n",
        "resnet_model.add(Dense(512, activation = 'relu'))\n",
        "resnet_model.add(Dense(1, activation = 'sigmoid'))"
      ],
      "metadata": {
        "colab": {
          "base_uri": "https://localhost:8080/"
        },
        "id": "3q_I8pVKmwDR",
        "outputId": "a251d05a-4318-45b4-c0d2-3e2b7d38412c"
      },
      "execution_count": null,
      "outputs": [
        {
          "output_type": "stream",
          "name": "stdout",
          "text": [
            "Downloading data from https://storage.googleapis.com/tensorflow/keras-applications/resnet/resnet50_weights_tf_dim_ordering_tf_kernels_notop.h5\n",
            "94765736/94765736 [==============================] - 0s 0us/step\n"
          ]
        }
      ]
    },
    {
      "cell_type": "code",
      "source": [
        "resnet_model.summary()"
      ],
      "metadata": {
        "colab": {
          "base_uri": "https://localhost:8080/"
        },
        "id": "m-4uObK1m3HU",
        "outputId": "5dd6084e-953a-4218-998b-dfb1013ae1f6"
      },
      "execution_count": null,
      "outputs": [
        {
          "output_type": "stream",
          "name": "stdout",
          "text": [
            "Model: \"sequential\"\n",
            "_________________________________________________________________\n",
            " Layer (type)                Output Shape              Param #   \n",
            "=================================================================\n",
            " resnet50 (Functional)       (None, 2048)              23587712  \n",
            "                                                                 \n",
            " flatten (Flatten)           (None, 2048)              0         \n",
            "                                                                 \n",
            " dense (Dense)               (None, 512)               1049088   \n",
            "                                                                 \n",
            " dense_1 (Dense)             (None, 1)                 513       \n",
            "                                                                 \n",
            "=================================================================\n",
            "Total params: 24637313 (93.98 MB)\n",
            "Trainable params: 1049601 (4.00 MB)\n",
            "Non-trainable params: 23587712 (89.98 MB)\n",
            "_________________________________________________________________\n"
          ]
        }
      ]
    },
    {
      "cell_type": "code",
      "source": [
        "from keras.optimizers import Adam\n",
        "resnet_model.compile(optimizer=Adam(learning_rate=0.001),loss='binary_crossentropy',metrics=['accuracy'])"
      ],
      "metadata": {
        "id": "zc_Fxa0dm7Gc"
      },
      "execution_count": null,
      "outputs": []
    },
    {
      "cell_type": "code",
      "source": [
        "history = resnet_model.fit(train_data, epochs=3, validation_data=validation_data)"
      ],
      "metadata": {
        "colab": {
          "base_uri": "https://localhost:8080/"
        },
        "id": "4xdmedLinD3i",
        "outputId": "522dc15b-0e5f-48e3-c3fb-0331a8d24c71"
      },
      "execution_count": null,
      "outputs": [
        {
          "output_type": "stream",
          "name": "stdout",
          "text": [
            "Epoch 1/3\n",
            "13/13 [==============================] - 191s 14s/step - loss: 2.7818 - accuracy: 0.5925 - val_loss: 0.5971 - val_accuracy: 0.8300\n",
            "Epoch 2/3\n",
            "13/13 [==============================] - 157s 12s/step - loss: 0.3915 - accuracy: 0.8475 - val_loss: 0.2709 - val_accuracy: 0.8800\n",
            "Epoch 3/3\n",
            "13/13 [==============================] - 154s 12s/step - loss: 0.1327 - accuracy: 0.9550 - val_loss: 0.1062 - val_accuracy: 0.9400\n"
          ]
        }
      ]
    },
    {
      "cell_type": "code",
      "source": [
        "import matplotlib.pyplot as plt\n",
        "\n",
        "plt.plot(history.history['accuracy'],color='red',label='train')\n",
        "plt.plot(history.history['val_accuracy'],color='blue',label='validation')\n",
        "plt.legend()\n",
        "plt.show()"
      ],
      "metadata": {
        "colab": {
          "base_uri": "https://localhost:8080/",
          "height": 430
        },
        "id": "Z82WIMhbpgg8",
        "outputId": "23717d28-7e07-4c81-e2f8-be4ea6e078ba"
      },
      "execution_count": null,
      "outputs": [
        {
          "output_type": "display_data",
          "data": {
            "text/plain": [
              "<Figure size 640x480 with 1 Axes>"
            ],
            "image/png": "[encoded data removed]"
          },
          "metadata": {}
        }
      ]
    },
    {
      "cell_type": "code",
      "source": [
        "plt.plot(history.history['loss'],color='red',label='train')\n",
        "plt.plot(history.history['val_loss'],color='blue',label='validation')\n",
        "plt.legend()\n",
        "plt.show()"
      ],
      "metadata": {
        "colab": {
          "base_uri": "https://localhost:8080/",
          "height": 430
        },
        "id": "u2p-Yd01pwqr",
        "outputId": "1862c034-1a17-4569-9c98-fd169aca7166"
      },
      "execution_count": null,
      "outputs": [
        {
          "output_type": "display_data",
          "data": {
            "text/plain": [
              "<Figure size 640x480 with 1 Axes>"
            ],
            "image/png": "[encoded data removed]"
          },
          "metadata": {}
        }
      ]
    },
    {
      "cell_type": "code",
      "source": [
        "test_datagen = ImageDataGenerator(rescale=1./255)\n",
        "test_data = test_datagen.flow_from_directory(\n",
        "    test_dir,\n",
        "    target_size=(256,256),\n",
        "    batch_size=32,\n",
        "    class_mode='binary'\n",
        ")"
      ],
      "metadata": {
        "colab": {
          "base_uri": "https://localhost:8080/"
        },
        "id": "2b2HZydlp37K",
        "outputId": "ee8aa990-7bd8-44e0-9abd-61ae184bc5e7"
      },
      "execution_count": null,
      "outputs": [
        {
          "output_type": "stream",
          "name": "stdout",
          "text": [
            "Found 100 images belonging to 2 classes.\n"
          ]
        }
      ]
    },
    {
      "cell_type": "code",
      "source": [
        "predictions = resnet_model.predict(test_data)\n",
        "print(predictions)"
      ],
      "metadata": {
        "colab": {
          "base_uri": "https://localhost:8080/"
        },
        "id": "HeruiFI9p73G",
        "outputId": "54d6161d-fa53-4c0f-e716-109545b1735a"
      },
      "execution_count": null,
      "outputs": [
        {
          "output_type": "stream",
          "name": "stdout",
          "text": [
            "4/4 [==============================] - 30s 6s/step\n",
            "[[1.91147742e-03]\n",
            " [9.89704669e-01]\n",
            " [6.83147237e-02]\n",
            " [9.94384944e-01]\n",
            " [3.33825056e-03]\n",
            " [2.00579558e-02]\n",
            " [9.99869287e-01]\n",
            " [5.62615506e-03]\n",
            " [9.93270099e-01]\n",
            " [5.36516868e-03]\n",
            " [2.25184573e-04]\n",
            " [3.22253065e-04]\n",
            " [9.99593914e-01]\n",
            " [9.99998927e-01]\n",
            " [9.98731077e-01]\n",
            " [2.07187259e-03]\n",
            " [1.31957576e-01]\n",
            " [1.37602794e-03]\n",
            " [9.99994755e-01]\n",
            " [6.48958783e-04]\n",
            " [4.11810219e-01]\n",
            " [6.59972196e-03]\n",
            " [8.13752704e-04]\n",
            " [9.99953806e-01]\n",
            " [9.99975026e-01]\n",
            " [5.11681370e-04]\n",
            " [9.26537156e-01]\n",
            " [9.93688762e-01]\n",
            " [9.76223409e-01]\n",
            " [3.55552435e-02]\n",
            " [3.02197970e-02]\n",
            " [7.60890543e-01]\n",
            " [9.99182284e-01]\n",
            " [3.40483827e-03]\n",
            " [1.24012306e-03]\n",
            " [7.39379146e-04]\n",
            " [1.35786808e-03]\n",
            " [5.13967010e-04]\n",
            " [1.97611526e-02]\n",
            " [1.02653652e-02]\n",
            " [3.24910483e-03]\n",
            " [4.13257862e-03]\n",
            " [7.04258622e-04]\n",
            " [9.99972641e-01]\n",
            " [6.10478893e-02]\n",
            " [9.97400165e-01]\n",
            " [9.89896417e-01]\n",
            " [5.27564436e-04]\n",
            " [9.75489497e-01]\n",
            " [9.99967635e-01]\n",
            " [9.75078166e-01]\n",
            " [9.99999523e-01]\n",
            " [9.99537706e-01]\n",
            " [7.39215000e-04]\n",
            " [3.03076260e-04]\n",
            " [1.37705980e-02]\n",
            " [4.52949491e-04]\n",
            " [2.88304756e-04]\n",
            " [9.99479413e-01]\n",
            " [9.99999523e-01]\n",
            " [2.31797481e-03]\n",
            " [9.99414563e-01]\n",
            " [9.99906540e-01]\n",
            " [2.11704435e-04]\n",
            " [9.99906361e-01]\n",
            " [9.99993622e-01]\n",
            " [9.88747776e-01]\n",
            " [1.10384426e-04]\n",
            " [2.25718308e-04]\n",
            " [3.15378304e-04]\n",
            " [3.80424131e-03]\n",
            " [9.97256100e-01]\n",
            " [1.00000000e+00]\n",
            " [7.59695191e-04]\n",
            " [3.04226647e-03]\n",
            " [9.99686062e-01]\n",
            " [1.59260305e-03]\n",
            " [9.99994040e-01]\n",
            " [9.98938322e-01]\n",
            " [9.99947786e-01]\n",
            " [9.65604961e-01]\n",
            " [9.99756098e-01]\n",
            " [8.36505648e-03]\n",
            " [1.60167852e-04]\n",
            " [9.11092699e-01]\n",
            " [6.83093250e-01]\n",
            " [7.13314354e-01]\n",
            " [4.65551799e-04]\n",
            " [9.94602442e-01]\n",
            " [9.99797523e-01]\n",
            " [7.56822643e-04]\n",
            " [8.95458043e-01]\n",
            " [9.92894173e-04]\n",
            " [7.49219000e-01]\n",
            " [9.99820292e-01]\n",
            " [8.23400973e-04]\n",
            " [8.27657408e-04]\n",
            " [1.64235511e-03]\n",
            " [9.99925733e-01]\n",
            " [1.45204959e-03]]\n"
          ]
        }
      ]
    },
    {
      "cell_type": "code",
      "source": [
        "len(predictions)"
      ],
      "metadata": {
        "colab": {
          "base_uri": "https://localhost:8080/"
        },
        "id": "NHobZTrsqLpr",
        "outputId": "fdb45531-5acb-4f98-9c9f-5723dbbbced5"
      },
      "execution_count": null,
      "outputs": [
        {
          "output_type": "execute_result",
          "data": {
            "text/plain": [
              "100"
            ]
          },
          "metadata": {},
          "execution_count": 26
        }
      ]
    },
    {
      "cell_type": "code",
      "source": [
        "from sklearn.metrics import confusion_matrix, classification_report\n",
        "\n",
        "# Assuming you have ground truth labels (true_labels) and predicted labels (predictions)\n",
        "true_labels = test_data.classes\n",
        "predicted_labels = (predictions > 0.5).astype(int)  # Adjust the threshold as needed\n",
        "\n",
        "# Calculate confusion matrix\n",
        "cm = confusion_matrix(true_labels, predicted_labels)\n",
        "\n",
        "# Print confusion matrix\n",
        "print(\"Confusion Matrix:\")\n",
        "print(cm)\n",
        "\n",
        "# Print classification report\n",
        "print(\"Classification Report:\")\n",
        "print(classification_report(true_labels, predicted_labels))"
      ],
      "metadata": {
        "id": "sEDTj5V4qTTG",
        "outputId": "a95966b0-4a98-4ab2-c759-dba186a2b461",
        "colab": {
          "base_uri": "https://localhost:8080/"
        }
      },
      "execution_count": null,
      "outputs": [
        {
          "output_type": "stream",
          "name": "stdout",
          "text": [
            "Confusion Matrix:\n",
            "[[30 20]\n",
            " [23 27]]\n",
            "Classification Report:\n",
            "              precision    recall  f1-score   support\n",
            "\n",
            "           0       0.57      0.60      0.58        50\n",
            "           1       0.57      0.54      0.56        50\n",
            "\n",
            "    accuracy                           0.57       100\n",
            "   macro avg       0.57      0.57      0.57       100\n",
            "weighted avg       0.57      0.57      0.57       100\n",
            "\n"
          ]
        }
      ]
    },
    {
      "cell_type": "code",
      "source": [
        "train_dir = '/content/drive/MyDrive/Train'\n",
        "test_dir = '/content/drive/MyDrive/Test'"
      ],
      "metadata": {
        "id": "WejQRhS5d06G"
      },
      "execution_count": 8,
      "outputs": []
    },
    {
      "cell_type": "code",
      "source": [
        "import os\n",
        "print(len(os.listdir('/content/drive/MyDrive/Train/Bears')))\n",
        "print(len(os.listdir('/content/drive/MyDrive/Train/Pandas')))\n",
        "print(len(os.listdir('/content/drive/MyDrive/Test/Bears')))\n",
        "print(len(os.listdir('/content/drive/MyDrive/Test/Pandas')))"
      ],
      "metadata": {
        "colab": {
          "base_uri": "https://localhost:8080/"
        },
        "id": "NVLNOKfmePzS",
        "outputId": "86794804-d1c1-46c9-b383-648a0d2695d6"
      },
      "execution_count": 10,
      "outputs": [
        {
          "output_type": "stream",
          "name": "stdout",
          "text": [
            "250\n",
            "250\n",
            "50\n",
            "50\n"
          ]
        }
      ]
    },
    {
      "cell_type": "code",
      "source": [
        "import tensorflow as tf\n",
        "from tensorflow.keras.preprocessing.image import ImageDataGenerator\n",
        "\n",
        "# Create ImageDataGenerator for training set\n",
        "train_datagen = ImageDataGenerator(\n",
        "    rescale=1./255,\n",
        "    validation_split=0.2  # Split 20% of the images for validation\n",
        ")\n",
        "\n",
        "# Load and prepare training data\n",
        "train_data = train_datagen.flow_from_directory(\n",
        "    train_dir,\n",
        "    target_size=(256,256),\n",
        "    batch_size=32,\n",
        "    class_mode='binary',  # 'binary' for binary classification (cats vs. dogs)\n",
        "    subset='training'  # Specify 'training' for the training set\n",
        ")\n",
        "\n",
        "# Create ImageDataGenerator for validation set\n",
        "validation_datagen = ImageDataGenerator(\n",
        "    rescale=1./255,\n",
        "    validation_split=0.2  # Note: Using the same validation split as in the training set\n",
        ")\n",
        "\n",
        "# Load and prepare validation data\n",
        "validation_data = validation_datagen.flow_from_directory(\n",
        "    train_dir,\n",
        "    target_size=(256,256),\n",
        "    batch_size=32,\n",
        "    class_mode='binary',\n",
        "    subset='validation'  # Specify 'validation' for the validation set\n",
        ")"
      ],
      "metadata": {
        "colab": {
          "base_uri": "https://localhost:8080/"
        },
        "id": "WVjRxoILe2q8",
        "outputId": "432ba4ef-589b-4a8f-ac26-c586c4348df7"
      },
      "execution_count": 12,
      "outputs": [
        {
          "output_type": "stream",
          "name": "stdout",
          "text": [
            "Found 400 images belonging to 2 classes.\n",
            "Found 100 images belonging to 2 classes.\n"
          ]
        }
      ]
    },
    {
      "cell_type": "code",
      "source": [
        "from tensorflow import keras\n",
        "from keras import Sequential\n",
        "from keras.layers import Dense,Conv2D,MaxPooling2D,Flatten,BatchNormalization,UpSampling2D, Dropout"
      ],
      "metadata": {
        "id": "-sRVva4Gc_e1"
      },
      "execution_count": 1,
      "outputs": []
    },
    {
      "cell_type": "code",
      "source": [
        "# create CNN model\n",
        "\n",
        "model = Sequential()\n",
        "\n",
        "model.add(Conv2D(32,kernel_size=(3,3),padding='valid',activation='relu',input_shape=(256,256,3)))  # 32 filters\n",
        "#model.add(BatchNormalization())  # added to reduce overfitting\n",
        "model.add(MaxPooling2D(pool_size=(2,2),strides=2,padding='valid'))\n",
        "\n",
        "model.add(Conv2D(64,kernel_size=(3,3),padding='valid',activation='relu'))\n",
        "#model.add(BatchNormalization())  # added to reduce overfitting\n",
        "model.add(MaxPooling2D(pool_size=(2,2),strides=2,padding='valid'))\n",
        "\n",
        "model.add(Conv2D(128,kernel_size=(3,3),padding='valid',activation='relu'))\n",
        "#model.add(BatchNormalization())  # added to reduce overfitting\n",
        "model.add(MaxPooling2D(pool_size=(2,2),strides=2,padding='valid'))\n",
        "\n",
        "model.add(Flatten())\n",
        "\n",
        "model.add(Dense(128,activation='relu')) #feature reduction\n",
        "#model.add(Dropout(0.1))  # added to reduce overfitting\n",
        "model.add(Dense(64,activation='relu'))\n",
        "#model.add(Dropout(0.1))  # added to reduce overfitting\n",
        "model.add(Dense(1,activation='sigmoid'))  #output layer"
      ],
      "metadata": {
        "id": "dNNFpuETdInR"
      },
      "execution_count": 2,
      "outputs": []
    },
    {
      "cell_type": "code",
      "source": [
        "from keras.optimizers import Adam\n",
        "model.compile(optimizer=Adam(learning_rate=0.001),loss='binary_crossentropy',metrics=['accuracy']) #binary_crossentropy - binary classification"
      ],
      "metadata": {
        "id": "TjnjVKije8KC"
      },
      "execution_count": 13,
      "outputs": []
    },
    {
      "cell_type": "code",
      "source": [
        "history = model.fit(train_data, epochs=30, validation_data=validation_data)"
      ],
      "metadata": {
        "colab": {
          "base_uri": "https://localhost:8080/"
        },
        "id": "pBPwGAeCe9ga",
        "outputId": "67a5fe87-919b-4e8f-ec92-ad0dd9ac5a51"
      },
      "execution_count": 14,
      "outputs": [
        {
          "output_type": "stream",
          "name": "stdout",
          "text": [
            "Epoch 1/30\n",
            "13/13 [==============================] - 114s 8s/step - loss: 0.7930 - accuracy: 0.6925 - val_loss: 0.1209 - val_accuracy: 1.0000\n",
            "Epoch 2/30\n",
            "13/13 [==============================] - 67s 5s/step - loss: 0.0761 - accuracy: 0.9850 - val_loss: 0.0525 - val_accuracy: 0.9800\n",
            "Epoch 3/30\n",
            "13/13 [==============================] - 64s 5s/step - loss: 0.0922 - accuracy: 0.9675 - val_loss: 0.0022 - val_accuracy: 1.0000\n",
            "Epoch 4/30\n",
            "13/13 [==============================] - 67s 5s/step - loss: 0.0135 - accuracy: 0.9950 - val_loss: 0.0074 - val_accuracy: 1.0000\n",
            "Epoch 5/30\n",
            "13/13 [==============================] - 66s 5s/step - loss: 7.4912e-04 - accuracy: 1.0000 - val_loss: 0.0014 - val_accuracy: 1.0000\n",
            "Epoch 6/30\n",
            "13/13 [==============================] - 66s 5s/step - loss: 7.8720e-04 - accuracy: 1.0000 - val_loss: 7.9816e-04 - val_accuracy: 1.0000\n",
            "Epoch 7/30\n",
            "13/13 [==============================] - 65s 5s/step - loss: 2.1228e-04 - accuracy: 1.0000 - val_loss: 6.2242e-04 - val_accuracy: 1.0000\n",
            "Epoch 8/30\n",
            "13/13 [==============================] - 66s 5s/step - loss: 1.5661e-04 - accuracy: 1.0000 - val_loss: 4.5532e-04 - val_accuracy: 1.0000\n",
            "Epoch 9/30\n",
            "13/13 [==============================] - 75s 6s/step - loss: 1.0887e-04 - accuracy: 1.0000 - val_loss: 3.4581e-04 - val_accuracy: 1.0000\n",
            "Epoch 10/30\n",
            "13/13 [==============================] - 66s 5s/step - loss: 8.6160e-05 - accuracy: 1.0000 - val_loss: 2.5533e-04 - val_accuracy: 1.0000\n",
            "Epoch 11/30\n",
            "13/13 [==============================] - 65s 5s/step - loss: 6.3246e-05 - accuracy: 1.0000 - val_loss: 2.1354e-04 - val_accuracy: 1.0000\n",
            "Epoch 12/30\n",
            "13/13 [==============================] - 71s 5s/step - loss: 5.3742e-05 - accuracy: 1.0000 - val_loss: 1.8071e-04 - val_accuracy: 1.0000\n",
            "Epoch 13/30\n",
            "13/13 [==============================] - 76s 6s/step - loss: 4.5127e-05 - accuracy: 1.0000 - val_loss: 1.5605e-04 - val_accuracy: 1.0000\n",
            "Epoch 14/30\n",
            "13/13 [==============================] - 65s 5s/step - loss: 3.8814e-05 - accuracy: 1.0000 - val_loss: 1.3613e-04 - val_accuracy: 1.0000\n",
            "Epoch 15/30\n",
            "13/13 [==============================] - 66s 5s/step - loss: 3.2936e-05 - accuracy: 1.0000 - val_loss: 1.2225e-04 - val_accuracy: 1.0000\n",
            "Epoch 16/30\n",
            "13/13 [==============================] - 66s 5s/step - loss: 2.9022e-05 - accuracy: 1.0000 - val_loss: 1.0898e-04 - val_accuracy: 1.0000\n",
            "Epoch 17/30\n",
            "13/13 [==============================] - 66s 5s/step - loss: 2.5344e-05 - accuracy: 1.0000 - val_loss: 9.8117e-05 - val_accuracy: 1.0000\n",
            "Epoch 18/30\n",
            "13/13 [==============================] - 72s 6s/step - loss: 2.2590e-05 - accuracy: 1.0000 - val_loss: 8.9009e-05 - val_accuracy: 1.0000\n",
            "Epoch 19/30\n",
            "13/13 [==============================] - 71s 5s/step - loss: 2.0073e-05 - accuracy: 1.0000 - val_loss: 8.1164e-05 - val_accuracy: 1.0000\n",
            "Epoch 20/30\n",
            "13/13 [==============================] - 65s 5s/step - loss: 1.7851e-05 - accuracy: 1.0000 - val_loss: 7.5152e-05 - val_accuracy: 1.0000\n",
            "Epoch 21/30\n",
            "13/13 [==============================] - 71s 6s/step - loss: 1.6337e-05 - accuracy: 1.0000 - val_loss: 6.9136e-05 - val_accuracy: 1.0000\n",
            "Epoch 22/30\n",
            "13/13 [==============================] - 65s 5s/step - loss: 1.4696e-05 - accuracy: 1.0000 - val_loss: 6.3709e-05 - val_accuracy: 1.0000\n",
            "Epoch 23/30\n",
            "13/13 [==============================] - 80s 6s/step - loss: 1.3313e-05 - accuracy: 1.0000 - val_loss: 5.8919e-05 - val_accuracy: 1.0000\n",
            "Epoch 24/30\n",
            "13/13 [==============================] - 66s 5s/step - loss: 1.2058e-05 - accuracy: 1.0000 - val_loss: 5.5208e-05 - val_accuracy: 1.0000\n",
            "Epoch 25/30\n",
            "13/13 [==============================] - 65s 5s/step - loss: 1.1101e-05 - accuracy: 1.0000 - val_loss: 5.1295e-05 - val_accuracy: 1.0000\n",
            "Epoch 26/30\n",
            "13/13 [==============================] - 65s 5s/step - loss: 1.0192e-05 - accuracy: 1.0000 - val_loss: 4.7835e-05 - val_accuracy: 1.0000\n",
            "Epoch 27/30\n",
            "13/13 [==============================] - 76s 6s/step - loss: 9.3689e-06 - accuracy: 1.0000 - val_loss: 4.4991e-05 - val_accuracy: 1.0000\n",
            "Epoch 28/30\n",
            "13/13 [==============================] - 65s 5s/step - loss: 8.6617e-06 - accuracy: 1.0000 - val_loss: 4.2316e-05 - val_accuracy: 1.0000\n",
            "Epoch 29/30\n",
            "13/13 [==============================] - 65s 5s/step - loss: 8.0462e-06 - accuracy: 1.0000 - val_loss: 3.9924e-05 - val_accuracy: 1.0000\n",
            "Epoch 30/30\n",
            "13/13 [==============================] - 71s 5s/step - loss: 7.4569e-06 - accuracy: 1.0000 - val_loss: 3.7842e-05 - val_accuracy: 1.0000\n"
          ]
        }
      ]
    },
    {
      "cell_type": "code",
      "source": [
        "import matplotlib.pyplot as plt\n",
        "\n",
        "plt.plot(history.history['accuracy'],color='red',label='train')\n",
        "plt.plot(history.history['val_accuracy'],color='blue',label='validation')\n",
        "plt.legend()\n",
        "plt.show()"
      ],
      "metadata": {
        "colab": {
          "base_uri": "https://localhost:8080/",
          "height": 430
        },
        "id": "MYuGg0MPlJZI",
        "outputId": "a6909179-b210-4b46-8e65-1f58f47c77d5"
      },
      "execution_count": 15,
      "outputs": [
        {
          "output_type": "display_data",
          "data": {
            "text/plain": [
              "<Figure size 640x480 with 1 Axes>"
            ],
            "image/png": "[encoded data removed]"
          },
          "metadata": {}
        }
      ]
    },
    {
      "cell_type": "code",
      "source": [
        "plt.plot(history.history['loss'],color='red',label='train')\n",
        "plt.plot(history.history['val_loss'],color='blue',label='validation')\n",
        "plt.legend()\n",
        "plt.show()"
      ],
      "metadata": {
        "colab": {
          "base_uri": "https://localhost:8080/",
          "height": 430
        },
        "id": "bJR00545oLqQ",
        "outputId": "affd5df2-2046-4f9d-8ccd-6cebbdca54cc"
      },
      "execution_count": 16,
      "outputs": [
        {
          "output_type": "display_data",
          "data": {
            "text/plain": [
              "<Figure size 640x480 with 1 Axes>"
            ],
            "image/png": "[encoded data removed]"
          },
          "metadata": {}
        }
      ]
    },
    {
      "cell_type": "code",
      "source": [
        "test_datagen = ImageDataGenerator(rescale=1./255)\n",
        "test_data = test_datagen.flow_from_directory(\n",
        "    test_dir,\n",
        "    target_size=(256,256),\n",
        "    batch_size=32,\n",
        "    class_mode='binary'\n",
        ")"
      ],
      "metadata": {
        "colab": {
          "base_uri": "https://localhost:8080/"
        },
        "id": "EeGixX_7oT30",
        "outputId": "b2875b9b-dc24-43a5-ad43-b892cdd8e6b8"
      },
      "execution_count": 17,
      "outputs": [
        {
          "output_type": "stream",
          "name": "stdout",
          "text": [
            "Found 100 images belonging to 2 classes.\n"
          ]
        }
      ]
    },
    {
      "cell_type": "code",
      "source": [
        "#predict the test data\n",
        "predictions = model.predict(test_data)\n",
        "print(predictions)"
      ],
      "metadata": {
        "colab": {
          "base_uri": "https://localhost:8080/"
        },
        "id": "6qEGEaaVoXEq",
        "outputId": "05ea9793-ce62-4128-feb1-648099dfeb3d"
      },
      "execution_count": 18,
      "outputs": [
        {
          "output_type": "stream",
          "name": "stdout",
          "text": [
            "4/4 [==============================] - 27s 8s/step\n",
            "[[2.2096788e-06]\n",
            " [1.8741416e-06]\n",
            " [1.4990836e-07]\n",
            " [1.0000000e+00]\n",
            " [9.9999982e-01]\n",
            " [9.9999994e-01]\n",
            " [9.9999845e-01]\n",
            " [2.8816164e-06]\n",
            " [4.1260978e-06]\n",
            " [9.9999982e-01]\n",
            " [1.0000000e+00]\n",
            " [1.0000000e+00]\n",
            " [1.0000000e+00]\n",
            " [3.3550214e-06]\n",
            " [5.1764675e-07]\n",
            " [9.9999803e-01]\n",
            " [1.0000000e+00]\n",
            " [5.9449320e-08]\n",
            " [2.9195655e-06]\n",
            " [9.9999869e-01]\n",
            " [9.9999732e-01]\n",
            " [9.9999791e-01]\n",
            " [1.0000000e+00]\n",
            " [1.4316955e-06]\n",
            " [1.0000000e+00]\n",
            " [1.9945337e-06]\n",
            " [4.4889439e-06]\n",
            " [3.2207853e-07]\n",
            " [1.0000000e+00]\n",
            " [9.9999988e-01]\n",
            " [6.6143272e-08]\n",
            " [2.3117263e-07]\n",
            " [8.1225508e-08]\n",
            " [1.0000000e+00]\n",
            " [1.2470129e-07]\n",
            " [3.1208338e-06]\n",
            " [8.4156653e-07]\n",
            " [2.0636153e-06]\n",
            " [4.3859518e-07]\n",
            " [5.4820339e-06]\n",
            " [9.9999934e-01]\n",
            " [2.1540200e-04]\n",
            " [1.0000000e+00]\n",
            " [6.8344357e-06]\n",
            " [1.0000000e+00]\n",
            " [1.6671463e-07]\n",
            " [1.0000000e+00]\n",
            " [1.0000000e+00]\n",
            " [1.0000000e+00]\n",
            " [9.9975699e-01]\n",
            " [9.9999988e-01]\n",
            " [1.5464293e-07]\n",
            " [9.9999994e-01]\n",
            " [9.9999988e-01]\n",
            " [9.9999994e-01]\n",
            " [9.9999923e-01]\n",
            " [9.9999911e-01]\n",
            " [9.9999994e-01]\n",
            " [1.0000000e+00]\n",
            " [9.9999142e-01]\n",
            " [9.9999940e-01]\n",
            " [1.0000000e+00]\n",
            " [4.3670675e-06]\n",
            " [1.0744707e-04]\n",
            " [1.0730328e-05]\n",
            " [9.9999958e-01]\n",
            " [1.0000000e+00]\n",
            " [9.9991107e-01]\n",
            " [1.6609126e-06]\n",
            " [6.8476658e-07]\n",
            " [1.2450752e-06]\n",
            " [4.5920652e-07]\n",
            " [2.2735314e-06]\n",
            " [1.0000000e+00]\n",
            " [1.0000000e+00]\n",
            " [1.5754593e-05]\n",
            " [1.8340614e-08]\n",
            " [4.4835829e-06]\n",
            " [1.0000000e+00]\n",
            " [9.9999774e-01]\n",
            " [9.9999928e-01]\n",
            " [1.0000000e+00]\n",
            " [3.9559662e-08]\n",
            " [2.0490115e-05]\n",
            " [9.8944440e-07]\n",
            " [1.4661547e-06]\n",
            " [1.3635108e-06]\n",
            " [9.9999988e-01]\n",
            " [7.3831934e-08]\n",
            " [4.3839528e-08]\n",
            " [7.8426166e-07]\n",
            " [1.4492902e-07]\n",
            " [4.8618119e-07]\n",
            " [1.0000000e+00]\n",
            " [1.0000000e+00]\n",
            " [1.0958910e-08]\n",
            " [9.9999994e-01]\n",
            " [9.9998897e-01]\n",
            " [1.0458237e-03]\n",
            " [3.0481879e-06]]\n"
          ]
        }
      ]
    },
    {
      "cell_type": "code",
      "source": [
        "len(predictions)"
      ],
      "metadata": {
        "colab": {
          "base_uri": "https://localhost:8080/"
        },
        "id": "QEEqG82BoyeE",
        "outputId": "fb14f774-060f-41cb-f849-68bbe3c6fc31"
      },
      "execution_count": 19,
      "outputs": [
        {
          "output_type": "execute_result",
          "data": {
            "text/plain": [
              "100"
            ]
          },
          "metadata": {},
          "execution_count": 19
        }
      ]
    },
    {
      "cell_type": "code",
      "source": [
        "from sklearn.metrics import confusion_matrix, classification_report\n",
        "\n",
        "# Assuming you have ground truth labels (true_labels) and predicted labels (predictions)\n",
        "true_labels = test_data.classes\n",
        "predicted_labels = (predictions > 0.5).astype(int)  # Adjust the threshold as needed\n",
        "\n",
        "# Calculate confusion matrix\n",
        "cm = confusion_matrix(true_labels, predicted_labels)\n",
        "\n",
        "# Print confusion matrix\n",
        "print(\"Confusion Matrix:\")\n",
        "print(cm)\n",
        "\n",
        "# Print classification report\n",
        "print(\"Classification Report:\")\n",
        "print(classification_report(true_labels, predicted_labels))"
      ],
      "metadata": {
        "colab": {
          "base_uri": "https://localhost:8080/"
        },
        "id": "x8UPIdPno2OS",
        "outputId": "764b299b-d496-4c4d-b359-055e52c20a11"
      },
      "execution_count": 20,
      "outputs": [
        {
          "output_type": "stream",
          "name": "stdout",
          "text": [
            "Confusion Matrix:\n",
            "[[25 25]\n",
            " [25 25]]\n",
            "Classification Report:\n",
            "              precision    recall  f1-score   support\n",
            "\n",
            "           0       0.50      0.50      0.50        50\n",
            "           1       0.50      0.50      0.50        50\n",
            "\n",
            "    accuracy                           0.50       100\n",
            "   macro avg       0.50      0.50      0.50       100\n",
            "weighted avg       0.50      0.50      0.50       100\n",
            "\n"
          ]
        }
      ]
    }
  ]
}